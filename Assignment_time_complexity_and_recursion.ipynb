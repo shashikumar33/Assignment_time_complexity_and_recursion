{
  "nbformat": 4,
  "nbformat_minor": 0,
  "metadata": {
    "colab": {
      "provenance": []
    },
    "kernelspec": {
      "name": "python3",
      "display_name": "Python 3"
    },
    "language_info": {
      "name": "python"
    }
  },
  "cells": [
    {
      "cell_type": "code",
      "source": [
        "# Find time complexity of below code blocks :"
      ],
      "metadata": {
        "id": "TpBvXIfWVhLZ"
      },
      "execution_count": null,
      "outputs": []
    },
    {
      "cell_type": "code",
      "execution_count": null,
      "metadata": {
        "colab": {
          "base_uri": "https://localhost:8080/",
          "height": 53
        },
        "id": "EXP_9YWoTk1T",
        "outputId": "b509c81f-d4f8-4092-ba04-25c156986e39"
      },
      "outputs": [
        {
          "output_type": "execute_result",
          "data": {
            "text/plain": [
              "'Problem 1 :\\ndef quicksort(arr):\\nif len(arr) <= 1:\\nreturn arr\\npivot = arr[len(arr) // 2]\\nleft = [x for x in arr if x < pivot]\\nmiddle = [x for x in arr if x == pivot]\\nright = [x for x in arr if x > pivot]\\nreturn quicksort(left) + middle + quicksort(right)'"
            ],
            "application/vnd.google.colaboratory.intrinsic+json": {
              "type": "string"
            }
          },
          "metadata": {},
          "execution_count": 1
        }
      ],
      "source": [
        "\"\"\"Problem 1 :\n",
        "def quicksort(arr):\n",
        "if len(arr) <= 1:\n",
        "return arr\n",
        "pivot = arr[len(arr) // 2]\n",
        "left = [x for x in arr if x < pivot]\n",
        "middle = [x for x in arr if x == pivot]\n",
        "right = [x for x in arr if x > pivot]\n",
        "return quicksort(left) + middle + quicksort(right)\"\"\""
      ]
    },
    {
      "cell_type": "code",
      "source": [
        " # Time complexity = O(n**2) (because for loop running two times)"
      ],
      "metadata": {
        "id": "LlEe6cr1T4ab"
      },
      "execution_count": null,
      "outputs": []
    },
    {
      "cell_type": "code",
      "source": [
        "\"\"\"Problem 2 :\n",
        "def nested_loop_example(matrix):\n",
        "rows, cols = len(matrix), len(matrix[0])\n",
        "total = 0\n",
        "for i in range(rows):\n",
        "  for j in range(cols):\n",
        "     total += matrix[i][j]\n",
        "return total\"\"\""
      ],
      "metadata": {
        "colab": {
          "base_uri": "https://localhost:8080/",
          "height": 53
        },
        "id": "9stLXVi2batW",
        "outputId": "2aa073d7-fd11-41a1-db22-74213b74115d"
      },
      "execution_count": null,
      "outputs": [
        {
          "output_type": "execute_result",
          "data": {
            "text/plain": [
              "'Problem 2 :\\ndef nested_loop_example(matrix):\\nrows, cols = len(matrix), len(matrix[0])\\ntotal = 0\\nfor i in range(rows):\\n  for j in range(cols):\\n     total += matrix[i][j]\\nreturn total'"
            ],
            "application/vnd.google.colaboratory.intrinsic+json": {
              "type": "string"
            }
          },
          "metadata": {},
          "execution_count": 5
        }
      ]
    },
    {
      "cell_type": "code",
      "source": [
        "# Time complexity :- O(n**2)\n",
        "# bacause two loop is used here outer and innner"
      ],
      "metadata": {
        "id": "TE772uKQbjDc"
      },
      "execution_count": null,
      "outputs": []
    },
    {
      "cell_type": "code",
      "source": [
        "#Pobleam 3\n",
        "\"\"\"\n",
        "def example_function(arr):\n",
        "result = 0\n",
        "for element in arr:\n",
        "result += element\n",
        "return result\n",
        "\n",
        "\"\"\""
      ],
      "metadata": {
        "colab": {
          "base_uri": "https://localhost:8080/",
          "height": 36
        },
        "id": "0UyVksLWetXS",
        "outputId": "234ff8b7-fa94-42ed-d2ea-98f841a396e4"
      },
      "execution_count": null,
      "outputs": [
        {
          "output_type": "execute_result",
          "data": {
            "text/plain": [
              "'\\ndef example_function(arr):\\nresult = 0\\nfor element in arr:\\nresult += element\\nreturn result\\n\\n'"
            ],
            "application/vnd.google.colaboratory.intrinsic+json": {
              "type": "string"
            }
          },
          "metadata": {},
          "execution_count": 7
        }
      ]
    },
    {
      "cell_type": "code",
      "source": [
        "# Time complexity:- O(n)\n",
        "# because for loop iterate the value only one time"
      ],
      "metadata": {
        "id": "pSb-zYvWfBh0"
      },
      "execution_count": null,
      "outputs": []
    },
    {
      "cell_type": "code",
      "source": [
        "# Probleam 4\n",
        "\"\"\"\n",
        "def longest_increasing_subsequence(nums):\n",
        "n = len(nums)\n",
        "lis = [1] * n\n",
        "for i in range(1, n):\n",
        "for j in range(0, i):\n",
        "if nums[i] > nums[j] and lis[i] < lis[j] + 1:\n",
        "lis[i] = lis[j] + 1\n",
        "return max(lis)\n",
        "\n",
        "\"\"\""
      ],
      "metadata": {
        "colab": {
          "base_uri": "https://localhost:8080/",
          "height": 53
        },
        "id": "KsB2Fn6niDcU",
        "outputId": "61d07e16-72b0-4754-c5f1-430d9e1c5c19"
      },
      "execution_count": null,
      "outputs": [
        {
          "output_type": "execute_result",
          "data": {
            "text/plain": [
              "'\\ndef longest_increasing_subsequence(nums):\\nn = len(nums)\\nlis = [1] * n\\nfor i in range(1, n):\\nfor j in range(0, i):\\nif nums[i] > nums[j] and lis[i] < lis[j] + 1:\\nlis[i] = lis[j] + 1\\nreturn max(lis)\\n\\n'"
            ],
            "application/vnd.google.colaboratory.intrinsic+json": {
              "type": "string"
            }
          },
          "metadata": {},
          "execution_count": 10
        }
      ]
    },
    {
      "cell_type": "code",
      "source": [
        "# Time complextity:- O(n**2)\n",
        "# for loop iterate two times , there is two loop outer and inner"
      ],
      "metadata": {
        "id": "lVJQpYnvlzr-"
      },
      "execution_count": null,
      "outputs": []
    },
    {
      "cell_type": "code",
      "source": [
        "\"\"\"\n",
        "Problem 5 :\n",
        "def mysterious_function(arr):\n",
        "n = len(arr)\n",
        "result = 0\n",
        "for i in range(n):\n",
        "for j in range(i, n):\n",
        "result += arr[i] * arr[j]\n",
        "return result\n",
        "\n",
        "\"\"\""
      ],
      "metadata": {
        "colab": {
          "base_uri": "https://localhost:8080/",
          "height": 36
        },
        "id": "h8Azste1m7QI",
        "outputId": "5f27f8e4-9bf3-4061-b1f2-d991a1e7fc44"
      },
      "execution_count": null,
      "outputs": [
        {
          "output_type": "execute_result",
          "data": {
            "text/plain": [
              "'\\nProblem 5 :\\ndef mysterious_function(arr):\\nn = len(arr)\\nresult = 0\\nfor i in range(n):\\nfor j in range(i, n):\\nresult += arr[i] * arr[j]\\nreturn result\\n\\n'"
            ],
            "application/vnd.google.colaboratory.intrinsic+json": {
              "type": "string"
            }
          },
          "metadata": {},
          "execution_count": 12
        }
      ]
    },
    {
      "cell_type": "code",
      "source": [
        "# Time complexity :- O(n**2)\n",
        "# for loop iterate the value two time"
      ],
      "metadata": {
        "id": "0hjDu71dnFrY"
      },
      "execution_count": null,
      "outputs": []
    },
    {
      "cell_type": "code",
      "source": [
        "# Solve the following problems on recursion"
      ],
      "metadata": {
        "id": "5tkYpfGVni6g"
      },
      "execution_count": null,
      "outputs": []
    },
    {
      "cell_type": "code",
      "source": [
        "\"\"\"\n",
        "Problem 6 : Sum of Digits\n",
        "Write a recursive function to calculate the sum of digits of a given positive integer.\n",
        "sum_of_digits(123) -> 6\n",
        "\n",
        "\"\"\""
      ],
      "metadata": {
        "colab": {
          "base_uri": "https://localhost:8080/",
          "height": 36
        },
        "id": "NeMnjIG3nzxE",
        "outputId": "d9554d4c-43eb-4e0d-8d7a-c33787ff9bc6"
      },
      "execution_count": null,
      "outputs": [
        {
          "output_type": "execute_result",
          "data": {
            "text/plain": [
              "'\\nProblem 6 : Sum of Digits\\nWrite a recursive function to calculate the sum of digits of a given positive integer.\\nsum_of_digits(123) -> 6\\n\\n'"
            ],
            "application/vnd.google.colaboratory.intrinsic+json": {
              "type": "string"
            }
          },
          "metadata": {},
          "execution_count": 15
        }
      ]
    },
    {
      "cell_type": "code",
      "source": [
        "def Sum_of_Digit(n):\n",
        "  if n<10:\n",
        "    return n\n",
        "  else:\n",
        "    return n%10+Sum_of_Digit(n//10)\n",
        "\n",
        "Sum_of_Digit(123)"
      ],
      "metadata": {
        "colab": {
          "base_uri": "https://localhost:8080/"
        },
        "id": "UYZpu5-4n8VP",
        "outputId": "e391aa63-d89c-4c44-a547-09e3aa51dc5e"
      },
      "execution_count": null,
      "outputs": [
        {
          "output_type": "execute_result",
          "data": {
            "text/plain": [
              "6"
            ]
          },
          "metadata": {},
          "execution_count": 16
        }
      ]
    },
    {
      "cell_type": "code",
      "source": [
        "\"\"\"\n",
        "Problem 7: Fibonacci Series\n",
        "Write a recursive function to generate the first n numbers of the Fibonacci series.\n",
        "fibonacci_series(6) -> [0, 1, 1, 2, 3, 5]\n",
        "\"\"\""
      ],
      "metadata": {
        "colab": {
          "base_uri": "https://localhost:8080/",
          "height": 36
        },
        "id": "Omsf4Z_zo1X4",
        "outputId": "651c3a15-70bf-459c-dc55-6ace5befacf7"
      },
      "execution_count": null,
      "outputs": [
        {
          "output_type": "execute_result",
          "data": {
            "text/plain": [
              "'\\nProblem 7: Fibonacci Series\\nWrite a recursive function to generate the first n numbers of the Fibonacci series.\\nfibonacci_series(6) -> [0, 1, 1, 2, 3, 5]\\n'"
            ],
            "application/vnd.google.colaboratory.intrinsic+json": {
              "type": "string"
            }
          },
          "metadata": {},
          "execution_count": 17
        }
      ]
    },
    {
      "cell_type": "code",
      "source": [
        "def Fibonacci_Series(n):\n",
        "  if n==0:\n",
        "    return []\n",
        "  elif n==1:\n",
        "    return [0]\n",
        "  elif n==2:\n",
        "    return [0,1]\n",
        "\n",
        "  else:\n",
        "    fib_series=Fibonacci_Series(n-1)\n",
        "    fib_series.append(fib_series[-1]+fib_series[-2])\n",
        "    return fib_series\n",
        "\n",
        "Fibonacci_Series(6)"
      ],
      "metadata": {
        "colab": {
          "base_uri": "https://localhost:8080/"
        },
        "id": "DMWSLo3oo-dz",
        "outputId": "11797227-64f5-4118-b852-1ecb51551aff"
      },
      "execution_count": null,
      "outputs": [
        {
          "output_type": "execute_result",
          "data": {
            "text/plain": [
              "[0, 1, 1, 2, 3, 5]"
            ]
          },
          "metadata": {},
          "execution_count": 19
        }
      ]
    },
    {
      "cell_type": "code",
      "source": [
        "\"\"\"\n",
        "Problem 8 : Subset Sum\n",
        "Given a set of positive integers and a target sum, write a recursive function to determine if there exists a subset\n",
        "of the integers that adds up to the target sum.\n",
        "subset_sum([3, 34, 4, 12, 5, 2], 9) -> True\n",
        "\n",
        "\"\"\""
      ],
      "metadata": {
        "colab": {
          "base_uri": "https://localhost:8080/",
          "height": 53
        },
        "id": "Uncxohy-sME9",
        "outputId": "7d6af239-6b79-4cf4-ca4f-f4b456894b35"
      },
      "execution_count": null,
      "outputs": [
        {
          "output_type": "execute_result",
          "data": {
            "text/plain": [
              "'\\nProblem 8 : Subset Sum\\nGiven a set of positive integers and a target sum, write a recursive function to determine if there exists a subset\\nof the integers that adds up to the target sum.\\nsubset_sum([3, 34, 4, 12, 5, 2], 9) -> True\\n\\n'"
            ],
            "application/vnd.google.colaboratory.intrinsic+json": {
              "type": "string"
            }
          },
          "metadata": {},
          "execution_count": 20
        }
      ]
    },
    {
      "cell_type": "code",
      "source": [
        "def subset_sum(nums, target):\n",
        "    if target == 0:\n",
        "        return True\n",
        "    if not nums and target != 0:\n",
        "        return False\n",
        "\n",
        "    include_last = subset_sum(nums[:-1], target - nums[-1])\n",
        "    exclude_last = subset_sum(nums[:-1], target)\n",
        "\n",
        "    return include_last or exclude_last\n",
        "\n",
        "# Example usage:\n",
        "nums = [3, 34, 4, 12, 5, 2]\n",
        "target_sum = 9\n",
        "result = subset_sum(nums, target_sum)\n",
        "print(result)\n"
      ],
      "metadata": {
        "colab": {
          "base_uri": "https://localhost:8080/"
        },
        "id": "jmGxcZE5fUF2",
        "outputId": "36e8f9db-f896-45ce-b6ee-6d3c1d7bcfab"
      },
      "execution_count": 2,
      "outputs": [
        {
          "output_type": "stream",
          "name": "stdout",
          "text": [
            "True\n"
          ]
        }
      ]
    },
    {
      "cell_type": "code",
      "source": [
        "\"\"\"\n",
        "Problem 9: Word Break\n",
        "Given a non-empty string and a dictionary of words, write a recursive function to determine if the string can be\n",
        "segmented into a space-separated sequence of dictionary words.\n",
        "word_break( leetcode , [ leet , code ]) -> True\n",
        "\n",
        "\"\"\""
      ],
      "metadata": {
        "colab": {
          "base_uri": "https://localhost:8080/",
          "height": 53
        },
        "id": "-pF7d7vAIf8M",
        "outputId": "8ece6478-c8db-417f-9eea-462f488a6b86"
      },
      "execution_count": null,
      "outputs": [
        {
          "output_type": "execute_result",
          "data": {
            "text/plain": [
              "'\\nProblem 9: Word Break\\nGiven a non-empty string and a dictionary of words, write a recursive function to determine if the string can be\\nsegmented into a space-separated sequence of dictionary words.\\nword_break( leetcode , [ leet , code ]) -> True\\n\\n'"
            ],
            "application/vnd.google.colaboratory.intrinsic+json": {
              "type": "string"
            }
          },
          "metadata": {},
          "execution_count": 22
        }
      ]
    },
    {
      "cell_type": "code",
      "source": [
        "def word_break(word_list,word):\n",
        "  if word==\"\":\n",
        "    return True\n",
        "  else:\n",
        "    word_len=len(word)\n",
        "    for i in range(1,word_len+1):\n",
        "      if word[:i] in word_list and word_break(word_list,word[i:]):\n",
        "\n",
        "        return True\n",
        "    return False\n",
        "\n",
        "word_list=[\"leet\" , \"code\"]\n",
        "word_break(word_list,\"leetcode\")"
      ],
      "metadata": {
        "colab": {
          "base_uri": "https://localhost:8080/"
        },
        "id": "1DSUi8A4Inc6",
        "outputId": "493a7b3d-cd72-4bd3-ec51-26555aa0b52a"
      },
      "execution_count": null,
      "outputs": [
        {
          "output_type": "execute_result",
          "data": {
            "text/plain": [
              "True"
            ]
          },
          "metadata": {},
          "execution_count": 25
        }
      ]
    },
    {
      "cell_type": "code",
      "source": [
        "\"\"\"Problem 10 : N-Queens\n",
        "\n",
        "\n",
        "Implement a recursive function to solve the N Queens problem, where you have to place N queens on an N×N\n",
        "chessboard in such a way that no two queens threaten each other.\n",
        "\n",
        "\n",
        "n_queens(4)\n",
        "\n",
        "\n",
        "[\n",
        "\n",
        " [\".Q..\",\n",
        "\n",
        "  \"...Q\",\n",
        "\n",
        "  \"Q...\",\n",
        "\n",
        "  \"..Q.\"],\n",
        "\n",
        " [\"..Q.\",\n",
        "\n",
        "  \"Q...\",\n",
        "\n",
        "  \"...Q\",\n",
        "\n",
        "  \".Q..\"]\n",
        "\n",
        "]\"\"\""
      ],
      "metadata": {
        "id": "BJ1o0LpwKjef",
        "colab": {
          "base_uri": "https://localhost:8080/",
          "height": 53
        },
        "outputId": "2c16c79b-c087-4611-c935-b67d57517853"
      },
      "execution_count": 3,
      "outputs": [
        {
          "output_type": "execute_result",
          "data": {
            "text/plain": [
              "'Problem 10 : N-Queens\\n\\n\\nImplement a recursive function to solve the N Queens problem, where you have to place N queens on an N×N \\nchessboard in such a way that no two queens threaten each other.\\n\\n\\nn_queens(4)\\n\\n\\n[\\n\\n [\".Q..\",\\n\\n  \"...Q\",\\n\\n  \"Q...\",\\n\\n  \"..Q.\"],\\n\\n [\"..Q.\",\\n\\n  \"Q...\",\\n\\n  \"...Q\",\\n\\n  \".Q..\"]\\n\\n]'"
            ],
            "application/vnd.google.colaboratory.intrinsic+json": {
              "type": "string"
            }
          },
          "metadata": {},
          "execution_count": 3
        }
      ]
    },
    {
      "cell_type": "code",
      "source": [
        "def isSafeT0PlaceQueen(board,row,col,n):\n",
        "  for i in range(col):\n",
        "    if board[row][i]==1:\n",
        "      return False\n",
        "\n",
        "  for i,j in zip(range(row,-1,-1),range(col,-1,-1)):\n",
        "    if board[i][j]==1:\n",
        "      return False\n",
        "\n",
        "  for i,j in zip(range(row,n,1),range(col,-1,-1)):\n",
        "    if board[i][j]==1:\n",
        "      return False\n",
        "\n",
        "  return True\n",
        "\n",
        "def solveNQ(board , n):\n",
        "  if not sloveNQUtill(board,0,n):\n",
        "    print(\"solution does not exit\")\n",
        "    return\n",
        "\n",
        "  printboard(board,n)\n",
        "\n",
        "def sloveNQUtill(board,col,n):\n",
        "  if (col>=n): #base case\n",
        "    return True\n",
        "\n",
        "  for row in range(n):\n",
        "    if isSafeT0PlaceQueen(board,row,col,n):\n",
        "      board[row][col]=1\n",
        "\n",
        "      if sloveNQUtill(board,col+1,n):\n",
        "        return True\n",
        "\n",
        "      board[row][col]=0\n",
        "\n",
        "  return False\n",
        "\n",
        "def printboard(board,n):\n",
        "  for i in range(n):\n",
        "    for j in range(n):\n",
        "      if board[i][j]==1:\n",
        "        print(\"Q\",end=\" \")\n",
        "      else:\n",
        "        print(\".\",end=\" \")\n",
        "    print()"
      ],
      "metadata": {
        "id": "InmktmYKBtgF"
      },
      "execution_count": 21,
      "outputs": []
    },
    {
      "cell_type": "code",
      "source": [
        "board=[[0,0,0,0],\n",
        "       [0,0,0,0],\n",
        "       [0,0,0,0],\n",
        "       [0,0,0,0]]\n",
        "solveNQ(board,4)"
      ],
      "metadata": {
        "colab": {
          "base_uri": "https://localhost:8080/"
        },
        "id": "afL68-bVKdhX",
        "outputId": "abdb6577-d051-48de-e1b8-853190d74454"
      },
      "execution_count": 22,
      "outputs": [
        {
          "output_type": "stream",
          "name": "stdout",
          "text": [
            ". . Q . \n",
            "Q . . . \n",
            ". . . Q \n",
            ". Q . . \n"
          ]
        }
      ]
    },
    {
      "cell_type": "code",
      "source": [],
      "metadata": {
        "id": "t5kX-CaCKxiJ"
      },
      "execution_count": null,
      "outputs": []
    }
  ]
}